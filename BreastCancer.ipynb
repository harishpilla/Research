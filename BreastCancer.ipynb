{
  "nbformat": 4,
  "nbformat_minor": 0,
  "metadata": {
    "colab": {
      "provenance": [],
      "authorship_tag": "ABX9TyMX/gODebvJJxLYfH+cLNZB",
      "include_colab_link": true
    },
    "kernelspec": {
      "name": "python3",
      "display_name": "Python 3"
    },
    "language_info": {
      "name": "python"
    }
  },
  "cells": [
    {
      "cell_type": "markdown",
      "metadata": {
        "id": "view-in-github",
        "colab_type": "text"
      },
      "source": [
        "<a href=\"https://colab.research.google.com/github/harishpilla/Research/blob/Research/BreastCancer.ipynb\" target=\"_parent\"><img src=\"https://colab.research.google.com/assets/colab-badge.svg\" alt=\"Open In Colab\"/></a>"
      ]
    },
    {
      "cell_type": "code",
      "execution_count": 1,
      "metadata": {
        "id": "8NkPS-sV-_aO"
      },
      "outputs": [],
      "source": [
        "import torch\n",
        "import numpy as np\n",
        "import matplotlib.pyplot as plt"
      ]
    },
    {
      "cell_type": "code",
      "source": [
        "from sklearn.datasets import load_breast_cancer\n",
        "data = load_breast_cancer()\n",
        "x = data['data']\n",
        "y = data['target']\n",
        "print(\"shape of x: {}\\nshape of y: {}\".format(x.shape,y.shape))"
      ],
      "metadata": {
        "colab": {
          "base_uri": "https://localhost:8080/"
        },
        "id": "3S_1gB9a-_8v",
        "outputId": "0bf8b756-f325-468a-dcca-5b488bb2c4fa"
      },
      "execution_count": 2,
      "outputs": [
        {
          "output_type": "stream",
          "name": "stdout",
          "text": [
            "shape of x: (569, 30)\n",
            "shape of y: (569,)\n"
          ]
        }
      ]
    },
    {
      "cell_type": "code",
      "source": [
        "from sklearn.model_selection import train_test_split\n",
        " \n",
        "from sklearn.metrics import accuracy_score, confusion_matrix\n",
        "\n",
        "X_train, X_test, y_train, y_test = train_test_split(x,y, test_size = 0.2, random_state = 10)\n",
        "from sklearn.svm import SVC\n",
        " \n",
        "svc_model = SVC(C= .1, kernel='linear', gamma= 1)\n",
        "svc_model.fit(X_train, y_train)\n",
        " \n",
        "prediction = svc_model .predict(X_test)\n",
        "print(svc_model.score(X_train, y_train))\n",
        "print(svc_model.score(X_test, y_test))"
      ],
      "metadata": {
        "colab": {
          "base_uri": "https://localhost:8080/"
        },
        "id": "7QUuhrKmB2VE",
        "outputId": "aeb5d23c-7d85-4eed-c44b-0525263f6e61"
      },
      "execution_count": null,
      "outputs": [
        {
          "output_type": "stream",
          "name": "stdout",
          "text": [
            "0.9604395604395605\n",
            "0.9473684210526315\n"
          ]
        }
      ]
    },
    {
      "cell_type": "code",
      "source": [
        "from sklearn.preprocessing import StandardScaler\n",
        "sc = StandardScaler()\n",
        "x = sc.fit_transform(x)"
      ],
      "metadata": {
        "id": "Zc7B3eEf_Bgm"
      },
      "execution_count": null,
      "outputs": []
    },
    {
      "cell_type": "code",
      "source": [
        "from torch.utils.data import Dataset, DataLoader\n",
        "class dataset(Dataset):\n",
        "  def __init__(self,x,y):\n",
        "    self.x = torch.tensor(x,dtype=torch.float32)\n",
        "    self.y = torch.tensor(y,dtype=torch.float32)\n",
        "    self.length = self.x.shape[0]\n",
        " \n",
        "  def __getitem__(self,idx):\n",
        "    return self.x[idx],self.y[idx]\n",
        "  def __len__(self):\n",
        "    return self.length\n",
        "trainset = dataset(x,y)\n",
        "#DataLoader\n",
        "trainloader = DataLoader(trainset,batch_size=64,shuffle=False)"
      ],
      "metadata": {
        "id": "bq_1iDIn_DVR"
      },
      "execution_count": null,
      "outputs": []
    },
    {
      "cell_type": "code",
      "source": [
        "from torch import nn\n",
        "from torch.nn import functional as F\n",
        "class Feedforward(nn.Module):\n",
        "  def __init__(self,input_size):\n",
        "    super(Feedforward,self).__init__()\n",
        "    self.fc1 = nn.Linear(input_size,32)\n",
        "    self.fc2 = nn.Linear(32,64)\n",
        "    self.fc3 = nn.Linear(64,1)\n",
        "  def forward(self,x):\n",
        "    x = torch.relu(self.fc1(x))\n",
        "    x = torch.relu(self.fc2(x))\n",
        "    x = torch.sigmoid(self.fc3(x))\n",
        "    return x\n",
        "\n",
        "\n",
        "class Feedforward_DLGN(nn.Module):\n",
        "    def __init__(self, input_size):\n",
        "        super().__init__()\n",
        "        self.input_size = input_size\n",
        "        self.fc1_npf = nn.Linear(input_size,32)\n",
        "        self.fc1_npv = nn.Linear(input_size,32)\n",
        "        self.fc2_npf = nn.Linear(32,64)\n",
        "        self.fc2_npv = nn.Linear(32,64)\n",
        "        self.fc3_npf = nn.Linear(64,1)\n",
        "        self.fc3_npv = nn.Linear(64,1)\n",
        "\n",
        "\n",
        "    def forward(self,x,x_npv):\n",
        "        \n",
        "        Sigmoid=torch.nn.Sigmoid()\n",
        "        beta=10\n",
        "        self.Gating_value=[]\n",
        "\n",
        "        output11 = self.fc1_npf(x)\n",
        "        Gate11=Sigmoid(beta*output11)\n",
        "\n",
        "        output12=self.fc2_npf(output11)\n",
        "        Gate12=Sigmoid(beta*output12)\n",
        "\n",
        "        output13=self.fc3_npf(output12)\n",
        "        Gate13=Sigmoid(beta*output13)\n",
        "        \n",
        "\n",
        "        ############################################## NPV Starts ##############################################################  \n",
        "\n",
        "        output = self.fc1_npv(x_npv)\n",
        "        output=output*Gate11\n",
        "\n",
        "        output=self.fc2_npv(output)\n",
        "        output=output*Gate12\n",
        "\n",
        "        output=self.fc3_npv(output)\n",
        "        output=output*Gate13   \n",
        "\n",
        "        output = torch.sigmoid(output)\n",
        "        # output = self.softmax(output)\n",
        "        \n",
        "        return output"
      ],
      "metadata": {
        "id": "gZ352-qQ_FMr"
      },
      "execution_count": null,
      "outputs": []
    },
    {
      "cell_type": "code",
      "source": [
        "learning_rate = 0.01\n",
        "epochs = 700\n",
        "# Model , Optimizer, Loss\n",
        "model = Feedforward(input_size=x.shape[1])\n",
        "model_DLGN = Feedforward_DLGN(input_size=x.shape[1])\n",
        "optimizer = torch.optim.SGD(model.parameters(),lr=learning_rate)\n",
        "optimizer_DLGN = torch.optim.SGD(model_DLGN.parameters(),lr=learning_rate)\n",
        "loss_fn = nn.BCELoss()"
      ],
      "metadata": {
        "id": "gD7npUdn_HeO"
      },
      "execution_count": null,
      "outputs": []
    },
    {
      "cell_type": "code",
      "source": [
        "losses = []\n",
        "accur = []\n",
        "for i in range(epochs):\n",
        "  for j,(x_train,y_train) in enumerate(trainloader):\n",
        "    \n",
        "    #calculate output\n",
        "    output = model(x_train)\n",
        " \n",
        "    #calculate loss\n",
        "    loss = loss_fn(output,y_train.reshape(-1,1))\n",
        " \n",
        "    #accuracy\n",
        "    predicted = model(torch.tensor(x,dtype=torch.float32))\n",
        "    acc = (predicted.reshape(-1).detach().numpy().round() == y).mean()\n",
        "    #backprop\n",
        "    optimizer.zero_grad()\n",
        "    loss.backward()\n",
        "    optimizer.step()\n",
        "\n",
        "  if i%10 == 0:\n",
        "    losses.append(loss)\n",
        "    accur.append(acc)\n",
        "    print(\"epoch {}\\tloss : {}\\t accuracy : {}\".format(i,loss,acc))"
      ],
      "metadata": {
        "colab": {
          "base_uri": "https://localhost:8080/"
        },
        "id": "gVEPwLGQ_Jfg",
        "outputId": "f54f28c9-1da8-4c6d-ae5c-fd2f9e507944"
      },
      "execution_count": null,
      "outputs": [
        {
          "output_type": "stream",
          "name": "stdout",
          "text": [
            "epoch 0\tloss : 0.6604838967323303\t accuracy : 0.8154657293497364\n",
            "epoch 10\tloss : 0.5672976970672607\t accuracy : 0.8347978910369068\n",
            "epoch 20\tloss : 0.4456852376461029\t accuracy : 0.9033391915641477\n",
            "epoch 30\tloss : 0.30781689286231995\t accuracy : 0.9384885764499121\n",
            "epoch 40\tloss : 0.21197590231895447\t accuracy : 0.9472759226713533\n",
            "epoch 50\tloss : 0.16032616794109344\t accuracy : 0.9543057996485061\n",
            "epoch 60\tloss : 0.13239306211471558\t accuracy : 0.9578207381370826\n",
            "epoch 70\tloss : 0.11570847034454346\t accuracy : 0.9630931458699473\n",
            "epoch 80\tloss : 0.10478395968675613\t accuracy : 0.968365553602812\n",
            "epoch 90\tloss : 0.09719635546207428\t accuracy : 0.9701230228471002\n",
            "epoch 100\tloss : 0.09152404218912125\t accuracy : 0.9736379613356766\n",
            "epoch 110\tloss : 0.08703997731208801\t accuracy : 0.9753954305799648\n",
            "epoch 120\tloss : 0.08336396515369415\t accuracy : 0.9771528998242531\n",
            "epoch 130\tloss : 0.08021079748868942\t accuracy : 0.9771528998242531\n",
            "epoch 140\tloss : 0.07741415500640869\t accuracy : 0.9789103690685413\n",
            "epoch 150\tloss : 0.07493085414171219\t accuracy : 0.9824253075571178\n",
            "epoch 160\tloss : 0.0727374330163002\t accuracy : 0.9824253075571178\n",
            "epoch 170\tloss : 0.07075493037700653\t accuracy : 0.984182776801406\n",
            "epoch 180\tloss : 0.06894537061452866\t accuracy : 0.984182776801406\n",
            "epoch 190\tloss : 0.06720951199531555\t accuracy : 0.984182776801406\n",
            "epoch 200\tloss : 0.0655512735247612\t accuracy : 0.9859402460456942\n",
            "epoch 210\tloss : 0.06398103386163712\t accuracy : 0.9859402460456942\n",
            "epoch 220\tloss : 0.06253180652856827\t accuracy : 0.9859402460456942\n",
            "epoch 230\tloss : 0.061253294348716736\t accuracy : 0.9859402460456942\n",
            "epoch 240\tloss : 0.0600469596683979\t accuracy : 0.9859402460456942\n",
            "epoch 250\tloss : 0.058882251381874084\t accuracy : 0.9859402460456942\n",
            "epoch 260\tloss : 0.05774024501442909\t accuracy : 0.9859402460456942\n",
            "epoch 270\tloss : 0.05662820488214493\t accuracy : 0.9876977152899824\n",
            "epoch 280\tloss : 0.055600304156541824\t accuracy : 0.9876977152899824\n",
            "epoch 290\tloss : 0.0546480268239975\t accuracy : 0.9876977152899824\n",
            "epoch 300\tloss : 0.05373639985918999\t accuracy : 0.9876977152899824\n",
            "epoch 310\tloss : 0.05284248664975166\t accuracy : 0.9876977152899824\n",
            "epoch 320\tloss : 0.051777612417936325\t accuracy : 0.9876977152899824\n",
            "epoch 330\tloss : 0.05076420679688454\t accuracy : 0.9894551845342706\n",
            "epoch 340\tloss : 0.049780648201704025\t accuracy : 0.9894551845342706\n",
            "epoch 350\tloss : 0.0488351471722126\t accuracy : 0.9894551845342706\n",
            "epoch 360\tloss : 0.04789144545793533\t accuracy : 0.9894551845342706\n",
            "epoch 370\tloss : 0.04695820435881615\t accuracy : 0.9894551845342706\n",
            "epoch 380\tloss : 0.046061381697654724\t accuracy : 0.9912126537785588\n",
            "epoch 390\tloss : 0.04525215923786163\t accuracy : 0.9912126537785588\n",
            "epoch 400\tloss : 0.04447037726640701\t accuracy : 0.9912126537785588\n",
            "epoch 410\tloss : 0.043655864894390106\t accuracy : 0.9912126537785588\n",
            "epoch 420\tloss : 0.0428193174302578\t accuracy : 0.9912126537785588\n",
            "epoch 430\tloss : 0.04201897978782654\t accuracy : 0.9912126537785588\n",
            "epoch 440\tloss : 0.04124363511800766\t accuracy : 0.9912126537785588\n",
            "epoch 450\tloss : 0.040507759898900986\t accuracy : 0.9912126537785588\n",
            "epoch 460\tloss : 0.039803944528102875\t accuracy : 0.9912126537785588\n",
            "epoch 470\tloss : 0.03912149369716644\t accuracy : 0.9929701230228472\n",
            "epoch 480\tloss : 0.038455069065093994\t accuracy : 0.9929701230228472\n",
            "epoch 490\tloss : 0.037811312824487686\t accuracy : 0.9929701230228472\n",
            "epoch 500\tloss : 0.0371091328561306\t accuracy : 0.9929701230228472\n",
            "epoch 510\tloss : 0.03639940917491913\t accuracy : 0.9929701230228472\n",
            "epoch 520\tloss : 0.035740479826927185\t accuracy : 0.9929701230228472\n",
            "epoch 530\tloss : 0.035154398530721664\t accuracy : 0.9929701230228472\n",
            "epoch 540\tloss : 0.03462167829275131\t accuracy : 0.9929701230228472\n",
            "epoch 550\tloss : 0.03411361575126648\t accuracy : 0.9929701230228472\n",
            "epoch 560\tloss : 0.0336247980594635\t accuracy : 0.9929701230228472\n",
            "epoch 570\tloss : 0.0331667996942997\t accuracy : 0.9929701230228472\n",
            "epoch 580\tloss : 0.0327104814350605\t accuracy : 0.9929701230228472\n",
            "epoch 590\tloss : 0.032314155250787735\t accuracy : 0.9929701230228472\n",
            "epoch 600\tloss : 0.031955912709236145\t accuracy : 0.9929701230228472\n",
            "epoch 610\tloss : 0.03159619867801666\t accuracy : 0.9929701230228472\n",
            "epoch 620\tloss : 0.031230758875608444\t accuracy : 0.9929701230228472\n",
            "epoch 630\tloss : 0.030863048508763313\t accuracy : 0.9929701230228472\n",
            "epoch 640\tloss : 0.030468255281448364\t accuracy : 0.9929701230228472\n",
            "epoch 650\tloss : 0.030088180676102638\t accuracy : 0.9929701230228472\n",
            "epoch 660\tloss : 0.029704753309488297\t accuracy : 0.9929701230228472\n",
            "epoch 670\tloss : 0.029318997636437416\t accuracy : 0.9929701230228472\n",
            "epoch 680\tloss : 0.028925906866788864\t accuracy : 0.9929701230228472\n",
            "epoch 690\tloss : 0.028554344549775124\t accuracy : 0.9929701230228472\n"
          ]
        }
      ]
    },
    {
      "cell_type": "code",
      "source": [
        "losses = []\n",
        "accur = []\n",
        "for i in range(epochs):\n",
        "  for j,(x_train,y_train) in enumerate(trainloader):\n",
        "    \n",
        "    #calculate output\n",
        "    All_ones=torch.ones(x_train.shape)\n",
        "    All_ones_X=torch.ones(x.shape)\n",
        "    output = model_DLGN(x_train,All_ones)\n",
        " \n",
        "    #calculate loss\n",
        "    loss = loss_fn(output,y_train.reshape(-1,1))\n",
        " \n",
        "    #accuracy\n",
        "    predicted = model_DLGN(torch.tensor(x,dtype=torch.float32),torch.tensor(All_ones_X,dtype=torch.float32))\n",
        "    acc = (predicted.reshape(-1).detach().numpy().round() == y).mean()\n",
        "    #backprop\n",
        "    optimizer_DLGN.zero_grad()\n",
        "    loss.backward()\n",
        "    optimizer_DLGN.step()\n",
        "\n",
        "  if i%10 == 0:\n",
        "    losses.append(loss)\n",
        "    accur.append(acc)\n",
        "    print(\"epoch {}\\tloss : {}\\t accuracy : {}\".format(i,loss,acc))"
      ],
      "metadata": {
        "colab": {
          "base_uri": "https://localhost:8080/"
        },
        "id": "S3rTwqEKAGes",
        "outputId": "6c740d5a-ec01-45ee-9629-3a3342c69db7"
      },
      "execution_count": null,
      "outputs": [
        {
          "output_type": "stream",
          "name": "stderr",
          "text": [
            "<ipython-input-10-91320d87ac85>:15: UserWarning: To copy construct from a tensor, it is recommended to use sourceTensor.clone().detach() or sourceTensor.clone().detach().requires_grad_(True), rather than torch.tensor(sourceTensor).\n",
            "  predicted = model_DLGN(torch.tensor(x,dtype=torch.float32),torch.tensor(All_ones_X,dtype=torch.float32))\n"
          ]
        },
        {
          "output_type": "stream",
          "name": "stdout",
          "text": [
            "epoch 0\tloss : 0.6554350852966309\t accuracy : 0.6889279437609842\n",
            "epoch 10\tloss : 0.43950483202934265\t accuracy : 0.6379613356766256\n",
            "epoch 20\tloss : 0.2945592403411865\t accuracy : 0.6625659050966608\n",
            "epoch 30\tloss : 0.24835649132728577\t accuracy : 0.6818980667838312\n",
            "epoch 40\tloss : 0.23112568259239197\t accuracy : 0.7100175746924429\n",
            "epoch 50\tloss : 0.22279150784015656\t accuracy : 0.7328646748681898\n",
            "epoch 60\tloss : 0.2181202471256256\t accuracy : 0.7451669595782073\n",
            "epoch 70\tloss : 0.21528542041778564\t accuracy : 0.7574692442882249\n",
            "epoch 80\tloss : 0.21349851787090302\t accuracy : 0.7609841827768014\n",
            "epoch 90\tloss : 0.2123647928237915\t accuracy : 0.7644991212653779\n",
            "epoch 100\tloss : 0.21164442598819733\t accuracy : 0.7680140597539543\n",
            "epoch 110\tloss : 0.211139515042305\t accuracy : 0.7750439367311072\n",
            "epoch 120\tloss : 0.21067270636558533\t accuracy : 0.7785588752196837\n",
            "epoch 130\tloss : 0.21014462411403656\t accuracy : 0.7820738137082601\n",
            "epoch 140\tloss : 0.2095571756362915\t accuracy : 0.7855887521968365\n",
            "epoch 150\tloss : 0.20895585417747498\t accuracy : 0.7943760984182777\n",
            "epoch 160\tloss : 0.2083781212568283\t accuracy : 0.7961335676625659\n",
            "epoch 170\tloss : 0.2078426331281662\t accuracy : 0.7996485061511424\n",
            "epoch 180\tloss : 0.20735473930835724\t accuracy : 0.8031634446397188\n",
            "epoch 190\tloss : 0.20691315829753876\t accuracy : 0.8031634446397188\n",
            "epoch 200\tloss : 0.2065136879682541\t accuracy : 0.804920913884007\n",
            "epoch 210\tloss : 0.20615136623382568\t accuracy : 0.8066783831282952\n",
            "epoch 220\tloss : 0.2058214396238327\t accuracy : 0.8084358523725835\n",
            "epoch 230\tloss : 0.20551961660385132\t accuracy : 0.8189806678383128\n",
            "epoch 240\tloss : 0.20524205267429352\t accuracy : 0.8242530755711776\n",
            "epoch 250\tloss : 0.2049856036901474\t accuracy : 0.8260105448154658\n",
            "epoch 260\tloss : 0.20474742352962494\t accuracy : 0.8295254833040422\n",
            "epoch 270\tloss : 0.20452508330345154\t accuracy : 0.8295254833040422\n",
            "epoch 280\tloss : 0.2043164223432541\t accuracy : 0.8330404217926186\n",
            "epoch 290\tloss : 0.20411966741085052\t accuracy : 0.836555360281195\n",
            "epoch 300\tloss : 0.20393314957618713\t accuracy : 0.8383128295254832\n",
            "epoch 310\tloss : 0.20375552773475647\t accuracy : 0.8383128295254832\n",
            "epoch 320\tloss : 0.20358559489250183\t accuracy : 0.8418277680140598\n",
            "epoch 330\tloss : 0.20342235267162323\t accuracy : 0.8471001757469244\n",
            "epoch 340\tloss : 0.20326495170593262\t accuracy : 0.8471001757469244\n",
            "epoch 350\tloss : 0.2031128704547882\t accuracy : 0.8523725834797891\n",
            "epoch 360\tloss : 0.20296549797058105\t accuracy : 0.859402460456942\n",
            "epoch 370\tloss : 0.2028224617242813\t accuracy : 0.8664323374340949\n",
            "epoch 380\tloss : 0.20268309116363525\t accuracy : 0.8699472759226714\n",
            "epoch 390\tloss : 0.20254644751548767\t accuracy : 0.8769771528998243\n",
            "epoch 400\tloss : 0.20241175591945648\t accuracy : 0.8769771528998243\n",
            "epoch 410\tloss : 0.2022782862186432\t accuracy : 0.8787346221441125\n",
            "epoch 420\tloss : 0.2021452635526657\t accuracy : 0.8804920913884007\n",
            "epoch 430\tloss : 0.20201218128204346\t accuracy : 0.8857644991212654\n",
            "epoch 440\tloss : 0.20187890529632568\t accuracy : 0.8875219683655536\n",
            "epoch 450\tloss : 0.20174555480480194\t accuracy : 0.8910369068541301\n",
            "epoch 460\tloss : 0.20161250233650208\t accuracy : 0.8910369068541301\n",
            "epoch 470\tloss : 0.20148009061813354\t accuracy : 0.8910369068541301\n",
            "epoch 480\tloss : 0.20134872198104858\t accuracy : 0.8910369068541301\n",
            "epoch 490\tloss : 0.20121878385543823\t accuracy : 0.8927943760984183\n",
            "epoch 500\tloss : 0.20109057426452637\t accuracy : 0.8927943760984183\n",
            "epoch 510\tloss : 0.20096443593502045\t accuracy : 0.8945518453427065\n",
            "epoch 520\tloss : 0.20084063708782196\t accuracy : 0.8945518453427065\n",
            "epoch 530\tloss : 0.20071937143802643\t accuracy : 0.8980667838312829\n",
            "epoch 540\tloss : 0.20060087740421295\t accuracy : 0.8980667838312829\n",
            "epoch 550\tloss : 0.2004852294921875\t accuracy : 0.8998242530755711\n",
            "epoch 560\tloss : 0.20037268102169037\t accuracy : 0.8998242530755711\n",
            "epoch 570\tloss : 0.20026330649852753\t accuracy : 0.8998242530755711\n",
            "epoch 580\tloss : 0.20015718042850494\t accuracy : 0.8998242530755711\n",
            "epoch 590\tloss : 0.20005446672439575\t accuracy : 0.9015817223198594\n",
            "epoch 600\tloss : 0.1999552845954895\t accuracy : 0.9033391915641477\n",
            "epoch 610\tloss : 0.19985975325107574\t accuracy : 0.9086115992970123\n",
            "epoch 620\tloss : 0.19976811110973358\t accuracy : 0.9103690685413005\n",
            "epoch 630\tloss : 0.1996806412935257\t accuracy : 0.9103690685413005\n",
            "epoch 640\tloss : 0.19959798455238342\t accuracy : 0.9103690685413005\n",
            "epoch 650\tloss : 0.19952106475830078\t accuracy : 0.9103690685413005\n",
            "epoch 660\tloss : 0.1994517296552658\t accuracy : 0.9138840070298769\n",
            "epoch 670\tloss : 0.19939236342906952\t accuracy : 0.9173989455184535\n",
            "epoch 680\tloss : 0.19934168457984924\t accuracy : 0.9173989455184535\n",
            "epoch 690\tloss : 0.19928717613220215\t accuracy : 0.9173989455184535\n"
          ]
        }
      ]
    },
    {
      "cell_type": "code",
      "source": [],
      "metadata": {
        "id": "7UmNgJEe_MIV"
      },
      "execution_count": null,
      "outputs": []
    }
  ]
}