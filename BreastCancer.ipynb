{
  "nbformat": 4,
  "nbformat_minor": 0,
  "metadata": {
    "colab": {
      "provenance": [],
      "authorship_tag": "ABX9TyPqpAwlYk43FEQFd9DZMD7P",
      "include_colab_link": true
    },
    "kernelspec": {
      "name": "python3",
      "display_name": "Python 3"
    },
    "language_info": {
      "name": "python"
    }
  },
  "cells": [
    {
      "cell_type": "markdown",
      "metadata": {
        "id": "view-in-github",
        "colab_type": "text"
      },
      "source": [
        "<a href=\"https://colab.research.google.com/github/harishpilla/Research/blob/Research/BreastCancer.ipynb\" target=\"_parent\"><img src=\"https://colab.research.google.com/assets/colab-badge.svg\" alt=\"Open In Colab\"/></a>"
      ]
    },
    {
      "cell_type": "code",
      "execution_count": 1,
      "metadata": {
        "id": "8NkPS-sV-_aO"
      },
      "outputs": [],
      "source": [
        "import torch\n",
        "import numpy as np\n",
        "import matplotlib.pyplot as plt"
      ]
    },
    {
      "cell_type": "code",
      "source": [
        "from sklearn.datasets import load_breast_cancer\n",
        "data = load_breast_cancer()\n",
        "x = data['data']\n",
        "y = data['target']\n",
        "print(\"shape of x: {}\\nshape of y: {}\".format(x.shape,y.shape))"
      ],
      "metadata": {
        "colab": {
          "base_uri": "https://localhost:8080/"
        },
        "id": "3S_1gB9a-_8v",
        "outputId": "9d96e357-0cdf-4325-cc83-555378ae162a"
      },
      "execution_count": 2,
      "outputs": [
        {
          "output_type": "stream",
          "name": "stdout",
          "text": [
            "shape of x: (569, 30)\n",
            "shape of y: (569,)\n"
          ]
        }
      ]
    },
    {
      "cell_type": "code",
      "source": [
        "from sklearn.model_selection import train_test_split\n",
        " \n",
        "# To calculate the accuracy score of the model\n",
        "from sklearn.metrics import accuracy_score, confusion_matrix\n",
        "\n",
        "X_train, X_test, y_train, y_test = train_test_split(x,y, test_size = 0.2, random_state = 10)\n",
        "from sklearn.svm import SVC\n",
        " \n",
        "# Building a Support Vector Machine on train data\n",
        "svc_model = SVC(C= .1, kernel='linear', gamma= 1)\n",
        "svc_model.fit(X_train, y_train)\n",
        " \n",
        "prediction = svc_model .predict(X_test)\n",
        "# check the accuracy on the training set\n",
        "print(svc_model.score(X_train, y_train))\n",
        "print(svc_model.score(X_test, y_test))"
      ],
      "metadata": {
        "colab": {
          "base_uri": "https://localhost:8080/"
        },
        "id": "7QUuhrKmB2VE",
        "outputId": "6d968eba-8804-4825-a422-394c2ce3a6f8"
      },
      "execution_count": 31,
      "outputs": [
        {
          "output_type": "stream",
          "name": "stdout",
          "text": [
            "0.9846153846153847\n",
            "0.9736842105263158\n"
          ]
        }
      ]
    },
    {
      "cell_type": "code",
      "source": [
        "from sklearn.preprocessing import StandardScaler\n",
        "sc = StandardScaler()\n",
        "x = sc.fit_transform(x)"
      ],
      "metadata": {
        "id": "Zc7B3eEf_Bgm"
      },
      "execution_count": 3,
      "outputs": []
    },
    {
      "cell_type": "code",
      "source": [
        "from torch.utils.data import Dataset, DataLoader\n",
        "class dataset(Dataset):\n",
        "  def __init__(self,x,y):\n",
        "    self.x = torch.tensor(x,dtype=torch.float32)\n",
        "    self.y = torch.tensor(y,dtype=torch.float32)\n",
        "    self.length = self.x.shape[0]\n",
        " \n",
        "  def __getitem__(self,idx):\n",
        "    return self.x[idx],self.y[idx]\n",
        "  def __len__(self):\n",
        "    return self.length\n",
        "trainset = dataset(x,y)\n",
        "#DataLoader\n",
        "trainloader = DataLoader(trainset,batch_size=64,shuffle=False)"
      ],
      "metadata": {
        "id": "bq_1iDIn_DVR"
      },
      "execution_count": 4,
      "outputs": []
    },
    {
      "cell_type": "code",
      "source": [
        "from torch import nn\n",
        "from torch.nn import functional as F\n",
        "class Feedforward(nn.Module):\n",
        "  def __init__(self,input_size):\n",
        "    super(Feedforward,self).__init__()\n",
        "    self.fc1 = nn.Linear(input_size,32)\n",
        "    self.fc2 = nn.Linear(32,64)\n",
        "    self.fc3 = nn.Linear(64,1)\n",
        "  def forward(self,x):\n",
        "    x = torch.relu(self.fc1(x))\n",
        "    x = torch.relu(self.fc2(x))\n",
        "    x = torch.sigmoid(self.fc3(x))\n",
        "    return x\n",
        "\n",
        "\n",
        "class Feedforward_DLGN(nn.Module):\n",
        "    def __init__(self, input_size):\n",
        "        super().__init__()\n",
        "        self.input_size = input_size\n",
        "        self.fc1_npf = nn.Linear(input_size,32)\n",
        "        self.fc1_npv = nn.Linear(input_size,32)\n",
        "        self.fc2_npf = nn.Linear(32,64)\n",
        "        self.fc2_npv = nn.Linear(32,64)\n",
        "        self.fc3_npf = nn.Linear(64,1)\n",
        "        self.fc3_npv = nn.Linear(64,1)\n",
        "\n",
        "\n",
        "    def forward(self,x,x_npv):\n",
        "        \n",
        "        Sigmoid=torch.nn.Sigmoid()\n",
        "        beta=10\n",
        "        self.Gating_value=[]\n",
        "\n",
        "        output11 = self.fc1_npf(x)\n",
        "        Gate11=Sigmoid(beta*output11)\n",
        "\n",
        "        output12=self.fc2_npf(output11)\n",
        "        Gate12=Sigmoid(beta*output12)\n",
        "\n",
        "        output13=self.fc3_npf(output12)\n",
        "        Gate13=Sigmoid(beta*output13)\n",
        "        \n",
        "\n",
        "        ############################################## NPV Starts ##############################################################  \n",
        "\n",
        "        output = self.fc1_npv(x_npv)\n",
        "        output=output*Gate11\n",
        "\n",
        "        output=self.fc2_npv(output)\n",
        "        output=output*Gate12\n",
        "\n",
        "        output=self.fc3_npv(output)\n",
        "        output=output*Gate13   \n",
        "\n",
        "        output = torch.sigmoid(output)\n",
        "        # output = self.softmax(output)\n",
        "        \n",
        "        return output"
      ],
      "metadata": {
        "id": "gZ352-qQ_FMr"
      },
      "execution_count": 27,
      "outputs": []
    },
    {
      "cell_type": "code",
      "source": [
        "learning_rate = 0.01\n",
        "epochs = 700\n",
        "# Model , Optimizer, Loss\n",
        "model = Feedforward(input_size=x.shape[1])\n",
        "model_DLGN = Feedforward_DLGN(input_size=x.shape[1])\n",
        "optimizer = torch.optim.SGD(model.parameters(),lr=learning_rate)\n",
        "loss_fn = nn.BCELoss()"
      ],
      "metadata": {
        "id": "gD7npUdn_HeO"
      },
      "execution_count": 28,
      "outputs": []
    },
    {
      "cell_type": "code",
      "source": [
        "losses = []\n",
        "accur = []\n",
        "for i in range(epochs):\n",
        "  for j,(x_train,y_train) in enumerate(trainloader):\n",
        "    \n",
        "    #calculate output\n",
        "    output = model(x_train)\n",
        " \n",
        "    #calculate loss\n",
        "    loss = loss_fn(output,y_train.reshape(-1,1))\n",
        " \n",
        "    #accuracy\n",
        "    predicted = model(torch.tensor(x,dtype=torch.float32))\n",
        "    acc = (predicted.reshape(-1).detach().numpy().round() == y).mean()\n",
        "    #backprop\n",
        "    optimizer.zero_grad()\n",
        "    loss.backward()\n",
        "    optimizer.step()\n",
        "\n",
        "  if i%50 == 0:\n",
        "    losses.append(loss)\n",
        "    accur.append(acc)\n",
        "    print(\"epoch {}\\tloss : {}\\t accuracy : {}\".format(i,loss,acc))"
      ],
      "metadata": {
        "colab": {
          "base_uri": "https://localhost:8080/"
        },
        "id": "gVEPwLGQ_Jfg",
        "outputId": "f1fdf6d7-b068-47e6-8a71-09a67d353d75"
      },
      "execution_count": 29,
      "outputs": [
        {
          "output_type": "stream",
          "name": "stdout",
          "text": [
            "epoch 0\tloss : 0.7384915947914124\t accuracy : 0.37258347978910367\n",
            "epoch 50\tloss : 0.1793651133775711\t accuracy : 0.9490333919156415\n",
            "epoch 100\tloss : 0.09920590370893478\t accuracy : 0.9789103690685413\n",
            "epoch 150\tloss : 0.07948213070631027\t accuracy : 0.9789103690685413\n",
            "epoch 200\tloss : 0.06675739586353302\t accuracy : 0.9824253075571178\n",
            "epoch 250\tloss : 0.05708572641015053\t accuracy : 0.984182776801406\n",
            "epoch 300\tloss : 0.04892220348119736\t accuracy : 0.984182776801406\n",
            "epoch 350\tloss : 0.04291361942887306\t accuracy : 0.9876977152899824\n",
            "epoch 400\tloss : 0.03814249858260155\t accuracy : 0.9894551845342706\n",
            "epoch 450\tloss : 0.03444446623325348\t accuracy : 0.9912126537785588\n",
            "epoch 500\tloss : 0.03160341829061508\t accuracy : 0.9912126537785588\n",
            "epoch 550\tloss : 0.029017403721809387\t accuracy : 0.9912126537785588\n",
            "epoch 600\tloss : 0.027289019897580147\t accuracy : 0.9929701230228472\n",
            "epoch 650\tloss : 0.025856610387563705\t accuracy : 0.9929701230228472\n"
          ]
        }
      ]
    },
    {
      "cell_type": "code",
      "source": [
        "losses = []\n",
        "accur = []\n",
        "for i in range(epochs):\n",
        "  for j,(x_train,y_train) in enumerate(trainloader):\n",
        "    \n",
        "    #calculate output\n",
        "    All_ones=torch.ones(x_train.shape)\n",
        "    output = model_DLGN(x_train,All_ones)\n",
        " \n",
        "    #calculate loss\n",
        "    loss = loss_fn(output,y_train.reshape(-1,1))\n",
        " \n",
        "    #accuracy\n",
        "    predicted = model(torch.tensor(x,dtype=torch.float32))\n",
        "    acc = (predicted.reshape(-1).detach().numpy().round() == y).mean()\n",
        "    #backprop\n",
        "    optimizer.zero_grad()\n",
        "    loss.backward()\n",
        "    optimizer.step()\n",
        "\n",
        "  if i%50 == 0:\n",
        "    losses.append(loss)\n",
        "    accur.append(acc)\n",
        "    print(\"epoch {}\\tloss : {}\\t accuracy : {}\".format(i,loss,acc))"
      ],
      "metadata": {
        "colab": {
          "base_uri": "https://localhost:8080/"
        },
        "id": "S3rTwqEKAGes",
        "outputId": "956ae8eb-8c3e-4f39-941c-d82f615e9c64"
      },
      "execution_count": 30,
      "outputs": [
        {
          "output_type": "stream",
          "name": "stdout",
          "text": [
            "epoch 0\tloss : 0.6783239841461182\t accuracy : 0.9929701230228472\n",
            "epoch 50\tloss : 0.6783239841461182\t accuracy : 0.9929701230228472\n",
            "epoch 100\tloss : 0.6783239841461182\t accuracy : 0.9929701230228472\n",
            "epoch 150\tloss : 0.6783239841461182\t accuracy : 0.9929701230228472\n",
            "epoch 200\tloss : 0.6783239841461182\t accuracy : 0.9929701230228472\n",
            "epoch 250\tloss : 0.6783239841461182\t accuracy : 0.9929701230228472\n",
            "epoch 300\tloss : 0.6783239841461182\t accuracy : 0.9929701230228472\n",
            "epoch 350\tloss : 0.6783239841461182\t accuracy : 0.9929701230228472\n",
            "epoch 400\tloss : 0.6783239841461182\t accuracy : 0.9929701230228472\n",
            "epoch 450\tloss : 0.6783239841461182\t accuracy : 0.9929701230228472\n",
            "epoch 500\tloss : 0.6783239841461182\t accuracy : 0.9929701230228472\n",
            "epoch 550\tloss : 0.6783239841461182\t accuracy : 0.9929701230228472\n",
            "epoch 600\tloss : 0.6783239841461182\t accuracy : 0.9929701230228472\n",
            "epoch 650\tloss : 0.6783239841461182\t accuracy : 0.9929701230228472\n"
          ]
        }
      ]
    },
    {
      "cell_type": "code",
      "source": [],
      "metadata": {
        "id": "7UmNgJEe_MIV"
      },
      "execution_count": null,
      "outputs": []
    }
  ]
}